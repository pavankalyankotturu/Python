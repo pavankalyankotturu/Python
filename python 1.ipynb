{
 "cells": [
  {
   "cell_type": "markdown",
   "id": "2870d179",
   "metadata": {},
   "source": [
    "# hi this is pavan"
   ]
  },
  {
   "cell_type": "markdown",
   "id": "8c404b2b",
   "metadata": {},
   "source": [
    "### hi"
   ]
  },
  {
   "cell_type": "markdown",
   "id": "629d888a",
   "metadata": {},
   "source": [
    "#### _hi this is italic_"
   ]
  },
  {
   "cell_type": "markdown",
   "id": "8ceb152e",
   "metadata": {},
   "source": [
    "# ***hello***"
   ]
  },
  {
   "cell_type": "markdown",
   "id": "f259d431",
   "metadata": {},
   "source": [
    " # `this is monSpace`"
   ]
  },
  {
   "cell_type": "markdown",
   "id": "898d1118",
   "metadata": {},
   "source": [
    "- bullet\n",
    "\n",
    "# hello\n",
    "\n",
    "# hello\n",
    "\n",
    "    "
   ]
  },
  {
   "cell_type": "code",
   "execution_count": null,
   "id": "c73acf6a",
   "metadata": {},
   "outputs": [],
   "source": []
  }
 ],
 "metadata": {
  "kernelspec": {
   "display_name": "Python 3",
   "language": "python",
   "name": "python3"
  },
  "language_info": {
   "codemirror_mode": {
    "name": "ipython",
    "version": 3
   },
   "file_extension": ".py",
   "mimetype": "text/x-python",
   "name": "python",
   "nbconvert_exporter": "python",
   "pygments_lexer": "ipython3",
   "version": "3.8.8"
  }
 },
 "nbformat": 4,
 "nbformat_minor": 5
}
